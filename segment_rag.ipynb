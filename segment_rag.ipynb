{
 "cells": [
  {
   "cell_type": "code",
   "execution_count": 168,
   "metadata": {},
   "outputs": [],
   "source": [
    "from ilbal.obia import data_preparation as dp\n",
    "import numpy as np\n",
    "import rasterio\n",
    "from skimage.segmentation import felzenszwalb, slic, quickshift\n",
    "from skimage.future import graph\n",
    "import networkx as nx\n",
    "import matplotlib.pyplot as plt"
   ]
  },
  {
   "cell_type": "code",
   "execution_count": 169,
   "metadata": {},
   "outputs": [],
   "source": [
    "filename = \"/home/nate/Documents/Research/Guatemala/training_data/training_new_IMG_3833.tif\""
   ]
  },
  {
   "cell_type": "code",
   "execution_count": 233,
   "metadata": {},
   "outputs": [],
   "source": [
    "#felz_params = {'scale': 100.0, 'sigma': 2, 'min_size': 5000}\n",
    "felz_params = {'scale': 50.0, 'sigma': 2}\n",
    "slic_params = {'compactness': 1, 'n_segments': 500, 'convert2lab': True, 'slic_zero': False}\n",
    "quickshift_params = {}"
   ]
  },
  {
   "cell_type": "code",
   "execution_count": 234,
   "metadata": {},
   "outputs": [],
   "source": [
    "src = rasterio.open(filename)\n",
    "#print(\"CRS: \" + str(src.crs) + \"\\n\\nShape: \" + str(src.shape) + \"\\n\\nBands: \" + str(src.count))\n",
    "#print(\"Height (numRows): \" + str(src.height) + \", Width (numCols): \" + str(src.width))"
   ]
  },
  {
   "cell_type": "code",
   "execution_count": 235,
   "metadata": {},
   "outputs": [
    {
     "name": "stderr",
     "output_type": "stream",
     "text": [
      "/home/nate/anaconda3/envs/geo3/lib/python3.6/site-packages/skimage/util/dtype.py:126: UserWarning: Possible sign loss when converting negative image of type int16 to positive image of type uint8.\n",
      "  .format(dtypeobj_in, dtypeobj_out))\n",
      "/home/nate/anaconda3/envs/geo3/lib/python3.6/site-packages/skimage/util/dtype.py:130: UserWarning: Possible precision loss when converting from int16 to uint8\n",
      "  .format(dtypeobj_in, dtypeobj_out))\n"
     ]
    },
    {
     "name": "stdout",
     "output_type": "stream",
     "text": [
      "rout Shape: (1, 1556, 1086)\n",
      "+ellps=WGS84 +k=0.9998 +lat_0=0 +lon_0=-90.5 +no_defs +proj=tmerc +units=m +x_0=500000 +y_0=0\n"
     ]
    }
   ],
   "source": [
    "# Segment the image.\n",
    "rout = dp.segmentation(model=felzenszwalb, params=felz_params, src=src,\n",
    "                       modal_radius=3)\n",
    "print(\"rout Shape: \" + str(rout.shape))\n",
    "\n",
    "vout = dp.vectorize(image=rout, transform=src.transform)\n",
    "vout.crs = src.crs\n",
    "print(vout.crs)\n",
    "vout.to_file(\"output/original_segs.shp\")"
   ]
  },
  {
   "cell_type": "code",
   "execution_count": 186,
   "metadata": {
    "scrolled": false
   },
   "outputs": [
    {
     "name": "stderr",
     "output_type": "stream",
     "text": [
      "/home/nate/anaconda3/envs/geo3/lib/python3.6/site-packages/skimage/segmentation/slic_superpixels.py:156: FutureWarning: Using a non-tuple sequence for multidimensional indexing is deprecated; use `arr[tuple(seq)]` instead of `arr[seq]`. In the future this will be interpreted as an array index, `arr[np.array(seq)]`, which will result either in an error or a different result.\n",
      "  segments_z = grid_z[slices]\n",
      "/home/nate/anaconda3/envs/geo3/lib/python3.6/site-packages/skimage/segmentation/slic_superpixels.py:157: FutureWarning: Using a non-tuple sequence for multidimensional indexing is deprecated; use `arr[tuple(seq)]` instead of `arr[seq]`. In the future this will be interpreted as an array index, `arr[np.array(seq)]`, which will result either in an error or a different result.\n",
      "  segments_y = grid_y[slices]\n",
      "/home/nate/anaconda3/envs/geo3/lib/python3.6/site-packages/skimage/segmentation/slic_superpixels.py:158: FutureWarning: Using a non-tuple sequence for multidimensional indexing is deprecated; use `arr[tuple(seq)]` instead of `arr[seq]`. In the future this will be interpreted as an array index, `arr[np.array(seq)]`, which will result either in an error or a different result.\n",
      "  segments_x = grid_x[slices]\n",
      "/home/nate/anaconda3/envs/geo3/lib/python3.6/site-packages/skimage/util/dtype.py:126: UserWarning: Possible sign loss when converting negative image of type int16 to positive image of type uint8.\n",
      "  .format(dtypeobj_in, dtypeobj_out))\n",
      "/home/nate/anaconda3/envs/geo3/lib/python3.6/site-packages/skimage/util/dtype.py:179: UserWarning: Downcasting int16 to uint8 without scaling because max value 73 fits in uint8\n",
      "  \"value {} fits in {}\".format(a.dtype, dtype, a.max(), dtype))\n"
     ]
    }
   ],
   "source": [
    "# Segment the image.\n",
    "rout = dp.segmentation(model=slic, params=slic_params, src=src,\n",
    "                       modal_radius=3)"
   ]
  },
  {
   "cell_type": "code",
   "execution_count": 172,
   "metadata": {},
   "outputs": [
    {
     "name": "stderr",
     "output_type": "stream",
     "text": [
      "/home/nate/anaconda3/envs/geo3/lib/python3.6/site-packages/skimage/util/dtype.py:126: UserWarning: Possible sign loss when converting negative image of type int16 to positive image of type uint8.\n",
      "  .format(dtypeobj_in, dtypeobj_out))\n",
      "/home/nate/anaconda3/envs/geo3/lib/python3.6/site-packages/skimage/util/dtype.py:130: UserWarning: Possible precision loss when converting from int16 to uint8\n",
      "  .format(dtypeobj_in, dtypeobj_out))\n"
     ]
    }
   ],
   "source": [
    "# Segment the image.\n",
    "rout = dp.segmentation(model=quickshift, params=quickshift_params, src=src,\n",
    "                       modal_radius=3)"
   ]
  },
  {
   "cell_type": "code",
   "execution_count": 236,
   "metadata": {},
   "outputs": [
    {
     "name": "stdout",
     "output_type": "stream",
     "text": [
      "rout Shape: (1, 1556, 1086)\n",
      "+ellps=WGS84 +k=0.9998 +lat_0=0 +lon_0=-90.5 +no_defs +proj=tmerc +units=m +x_0=500000 +y_0=0\n"
     ]
    }
   ],
   "source": [
    "print(\"rout Shape: \" + str(rout.shape))\n",
    "\n",
    "vout = dp.vectorize(image=rout, transform=src.transform)\n",
    "vout.crs = src.crs\n",
    "print(vout.crs)\n",
    "vout.to_file(\"output/original_segs.shp\")"
   ]
  },
  {
   "cell_type": "code",
   "execution_count": 237,
   "metadata": {},
   "outputs": [],
   "source": [
    "# Region Agency Graph to merge segments\n",
    "orig = dp.bsq_to_bip(src.read([1, 2, 3], masked=True))\n",
    "labels = (dp.bsq_to_bip(rout))[:, :, 0]"
   ]
  },
  {
   "cell_type": "code",
   "execution_count": 238,
   "metadata": {},
   "outputs": [
    {
     "data": {
      "text/plain": [
       "314"
      ]
     },
     "execution_count": 238,
     "metadata": {},
     "output_type": "execute_result"
    }
   ],
   "source": [
    "np.max(labels)"
   ]
  },
  {
   "cell_type": "code",
   "execution_count": 239,
   "metadata": {},
   "outputs": [
    {
     "name": "stdout",
     "output_type": "stream",
     "text": [
      "Original: (1556, 1086, 3), labels: (1556, 1086)\n"
     ]
    }
   ],
   "source": [
    "print(\"Original: \" + str(orig.shape) + \", labels: \" + str(labels.shape))"
   ]
  },
  {
   "cell_type": "code",
   "execution_count": 265,
   "metadata": {},
   "outputs": [],
   "source": [
    "rag = graph.rag_mean_color(orig, labels)"
   ]
  },
  {
   "cell_type": "code",
   "execution_count": 266,
   "metadata": {},
   "outputs": [
    {
     "data": {
      "image/png": "[encoded data removed]",
      "text/plain": [
       "<Figure size 432x288 with 1 Axes>"
      ]
     },
     "metadata": {},
     "output_type": "display_data"
    }
   ],
   "source": [
    "nx.draw(rag)"
   ]
  },
  {
   "cell_type": "code",
   "execution_count": 267,
   "metadata": {},
   "outputs": [],
   "source": [
    "rout_cut_normalized = graph.cut_normalized(labels, rag)\n",
    "#rout_threshold = graph.cut_threshold(labels, rag, 10)"
   ]
  },
  {
   "cell_type": "code",
   "execution_count": 268,
   "metadata": {},
   "outputs": [
    {
     "data": {
      "text/plain": [
       "(1556, 1086)"
      ]
     },
     "execution_count": 268,
     "metadata": {},
     "output_type": "execute_result"
    }
   ],
   "source": [
    "rout_cut_normalized.shape"
   ]
  },
  {
   "cell_type": "code",
   "execution_count": 269,
   "metadata": {},
   "outputs": [],
   "source": [
    "#plt.hist(rout2)  # arguments are passed to np.histogram\n",
    "#plt.title(\"Regions distribution\")\n",
    "#plt.show()"
   ]
  },
  {
   "cell_type": "code",
   "execution_count": 270,
   "metadata": {},
   "outputs": [
    {
     "data": {
      "text/plain": [
       "<matplotlib.image.AxesImage at 0x7f8b467d6a90>"
      ]
     },
     "execution_count": 270,
     "metadata": {},
     "output_type": "execute_result"
    },
    {
     "data": {
      "image/png": "[encoded data removed]",
      "text/plain": [
       "<Figure size 432x288 with 1 Axes>"
      ]
     },
     "metadata": {},
     "output_type": "display_data"
    }
   ],
   "source": [
    "plt.imshow(rout_cut_normalized)"
   ]
  },
  {
   "cell_type": "code",
   "execution_count": 260,
   "metadata": {},
   "outputs": [
    {
     "data": {
      "text/plain": [
       "83"
      ]
     },
     "execution_count": 260,
     "metadata": {},
     "output_type": "execute_result"
    }
   ],
   "source": [
    "np.max(rout_cut_normalized)"
   ]
  },
  {
   "cell_type": "code",
   "execution_count": 261,
   "metadata": {},
   "outputs": [
    {
     "data": {
      "text/plain": [
       "(1, 1556, 1086)"
      ]
     },
     "execution_count": 261,
     "metadata": {},
     "output_type": "execute_result"
    }
   ],
   "source": [
    "rout3 = dp.bip_to_bsq(rout_cut_normalized[:, :, np.newaxis])\n",
    "rout3.shape"
   ]
  },
  {
   "cell_type": "code",
   "execution_count": 262,
   "metadata": {},
   "outputs": [
    {
     "data": {
      "text/plain": [
       "83"
      ]
     },
     "execution_count": 262,
     "metadata": {},
     "output_type": "execute_result"
    }
   ],
   "source": [
    "np.max(rout3)"
   ]
  },
  {
   "cell_type": "code",
   "execution_count": 263,
   "metadata": {},
   "outputs": [
    {
     "name": "stdout",
     "output_type": "stream",
     "text": [
      "+ellps=WGS84 +k=0.9998 +lat_0=0 +lon_0=-90.5 +no_defs +proj=tmerc +units=m +x_0=500000 +y_0=0\n"
     ]
    }
   ],
   "source": [
    "# Vectorize the RAG segments\n",
    "vout = dp.vectorize(image=rout3, transform=src.transform)\n",
    "vout.crs = src.crs\n",
    "print(vout.crs)\n",
    "vout.to_file(\"output/working.shp\")"
   ]
  },
  {
   "cell_type": "code",
   "execution_count": null,
   "metadata": {},
   "outputs": [],
   "source": []
  }
 ],
 "metadata": {
  "kernelspec": {
   "display_name": "Python 3 (Spyder)",
   "language": "python3",
   "name": "python3"
  },
  "language_info": {
   "codemirror_mode": {
    "name": "ipython",
    "version": 3
   },
   "file_extension": ".py",
   "mimetype": "text/x-python",
   "name": "python",
   "nbconvert_exporter": "python",
   "pygments_lexer": "ipython3",
   "version": "3.6.6"
  }
 },
 "nbformat": 4,
 "nbformat_minor": 2
}
