{
 "cells": [
  {
   "cell_type": "code",
   "execution_count": 1,
   "metadata": {},
   "outputs": [],
   "source": [
    "import numpy as np\n",
    "from scipy import ndimage\n",
    "from skimage.measure import regionprops, label\n",
    "from rasterio import features\n",
    "from pprint import pprint"
   ]
  },
  {
   "cell_type": "code",
   "execution_count": 2,
   "metadata": {},
   "outputs": [],
   "source": [
    "a = np.zeros((6,6), dtype=np.int)\n",
    "a[2:4, 2:4] = 1\n",
    "a[4,4] = 1\n",
    "a[:2, :3] = 2\n",
    "a[0, 5] = 3\n",
    "a[4:6, 2:4] = 5\n",
    "a[2:3, 0:1] = 8\n",
    "a[3:5, 1:2] = 8\n",
    "a[5:6, 0:1] = 8"
   ]
  },
  {
   "cell_type": "code",
   "execution_count": 3,
   "metadata": {},
   "outputs": [
    {
     "data": {
      "text/plain": [
       "array([[2, 2, 2, 0, 0, 3],\n",
       "       [2, 2, 2, 0, 0, 0],\n",
       "       [8, 0, 1, 1, 0, 0],\n",
       "       [0, 8, 1, 1, 0, 0],\n",
       "       [0, 8, 5, 5, 1, 0],\n",
       "       [8, 0, 5, 5, 0, 0]])"
      ]
     },
     "execution_count": 3,
     "metadata": {},
     "output_type": "execute_result"
    }
   ],
   "source": [
    "a"
   ]
  },
  {
   "cell_type": "markdown",
   "metadata": {},
   "source": [
    "### This is what regionprops does"
   ]
  },
  {
   "cell_type": "code",
   "execution_count": 48,
   "metadata": {},
   "outputs": [
    {
     "name": "stdout",
     "output_type": "stream",
     "text": [
      "Slice # 0: (slice(2, 5, None), slice(2, 5, None))\n",
      "Slice # 1: (slice(0, 2, None), slice(0, 3, None))\n",
      "Slice # 2: (slice(0, 1, None), slice(5, 6, None))\n",
      "Slice # 3: None\n",
      "Slice # 4: (slice(4, 6, None), slice(2, 4, None))\n",
      "Slice # 5: None\n",
      "Slice # 6: None\n",
      "Slice # 7: (slice(2, 6, None), slice(0, 2, None))\n"
     ]
    }
   ],
   "source": [
    "slices = ndimage.find_objects(a)\n",
    "for i, s in enumerate(slices):\n",
    "    print(\"Slice # \" + str(i) + \": \" + str(s))"
   ]
  },
  {
   "cell_type": "code",
   "execution_count": 49,
   "metadata": {},
   "outputs": [
    {
     "name": "stdout",
     "output_type": "stream",
     "text": [
      "Object 1 has 5 pixels.\n",
      "Object 2 has 6 pixels.\n",
      "Object 3 has 1 pixels.\n",
      "Object 5 has 4 pixels.\n",
      "Object 8 has 4 pixels.\n"
     ]
    }
   ],
   "source": [
    "props = regionprops(a)\n",
    "for p in props:\n",
    "    print(\"Object \" + str(p.label) + \" has \" + str(p.area) + \" pixels.\")"
   ]
  },
  {
   "cell_type": "markdown",
   "metadata": {},
   "source": [
    "### This is what rasterio features.shapes does"
   ]
  },
  {
   "cell_type": "code",
   "execution_count": 50,
   "metadata": {},
   "outputs": [
    {
     "name": "stdout",
     "output_type": "stream",
     "text": [
      "The length of the list is: 12\n",
      "\n",
      "({'type': 'Polygon', 'coordinates': [[(0.0, 0.0), (0.0, 2.0), (3.0, 2.0), (3.0, 0.0), (0.0, 0.0)]]}, 2.0)\n",
      "({'type': 'Polygon', 'coordinates': [[(5.0, 0.0), (5.0, 1.0), (6.0, 1.0), (6.0, 0.0), (5.0, 0.0)]]}, 3.0)\n",
      "({'type': 'Polygon', 'coordinates': [[(0.0, 2.0), (0.0, 3.0), (1.0, 3.0), (1.0, 2.0), (0.0, 2.0)]]}, 8.0)\n",
      "({'type': 'Polygon', 'coordinates': [[(1.0, 2.0), (1.0, 3.0), (2.0, 3.0), (2.0, 2.0), (1.0, 2.0)]]}, 0.0)\n",
      "({'type': 'Polygon', 'coordinates': [[(2.0, 2.0), (2.0, 4.0), (4.0, 4.0), (4.0, 2.0), (2.0, 2.0)]]}, 1.0)\n",
      "({'type': 'Polygon', 'coordinates': [[(0.0, 3.0), (0.0, 5.0), (1.0, 5.0), (1.0, 3.0), (0.0, 3.0)]]}, 0.0)\n",
      "({'type': 'Polygon', 'coordinates': [[(1.0, 3.0), (1.0, 5.0), (2.0, 5.0), (2.0, 3.0), (1.0, 3.0)]]}, 8.0)\n",
      "({'type': 'Polygon', 'coordinates': [[(2.0, 4.0), (2.0, 6.0), (4.0, 6.0), (4.0, 4.0), (2.0, 4.0)]]}, 5.0)\n",
      "({'type': 'Polygon', 'coordinates': [[(4.0, 4.0), (4.0, 5.0), (5.0, 5.0), (5.0, 4.0), (4.0, 4.0)]]}, 1.0)\n",
      "({'type': 'Polygon', 'coordinates': [[(0.0, 5.0), (0.0, 6.0), (1.0, 6.0), (1.0, 5.0), (0.0, 5.0)]]}, 8.0)\n",
      "({'type': 'Polygon', 'coordinates': [[(1.0, 5.0), (1.0, 6.0), (2.0, 6.0), (2.0, 5.0), (1.0, 5.0)]]}, 0.0)\n",
      "({'type': 'Polygon', 'coordinates': [[(3.0, 0.0), (3.0, 2.0), (4.0, 2.0), (4.0, 4.0), (5.0, 4.0), (5.0, 5.0), (4.0, 5.0), (4.0, 6.0), (5.0, 6.0), (6.0, 6.0), (6.0, 1.0), (5.0, 1.0), (5.0, 0.0), (3.0, 0.0)]]}, 0.0)\n"
     ]
    }
   ],
   "source": [
    "# connectivity is ROOK style...connectivity = 4\n",
    "shps = features.shapes(a.astype(np.int32))\n",
    "shapes = list(shps)\n",
    "print(\"The length of the list is: \" + str(len(shapes)) + \"\\n\")\n",
    "for s in shapes:\n",
    "    print(s)"
   ]
  },
  {
   "cell_type": "code",
   "execution_count": 51,
   "metadata": {},
   "outputs": [
    {
     "name": "stdout",
     "output_type": "stream",
     "text": [
      "The length of the list is: 7\n",
      "\n",
      "({'type': 'Polygon', 'coordinates': [[(0.0, 0.0), (0.0, 2.0), (3.0, 2.0), (3.0, 0.0), (0.0, 0.0)]]}, 2.0)\n",
      "({'type': 'Polygon', 'coordinates': [[(3.0, 0.0), (3.0, 2.0), (4.0, 2.0), (4.0, 4.0), (5.0, 4.0), (5.0, 5.0), (4.0, 5.0), (4.0, 6.0), (5.0, 6.0), (6.0, 6.0), (6.0, 1.0), (5.0, 1.0), (5.0, 0.0), (3.0, 0.0)]]}, 0.0)\n",
      "({'type': 'Polygon', 'coordinates': [[(5.0, 0.0), (5.0, 1.0), (6.0, 1.0), (6.0, 0.0), (5.0, 0.0)]]}, 3.0)\n",
      "({'type': 'Polygon', 'coordinates': [[(0.0, 2.0), (0.0, 3.0), (1.0, 3.0), (1.0, 5.0), (0.0, 5.0), (0.0, 6.0), (1.0, 6.0), (1.0, 5.0), (2.0, 5.0), (2.0, 3.0), (1.0, 3.0), (1.0, 2.0), (0.0, 2.0)]]}, 8.0)\n",
      "({'type': 'Polygon', 'coordinates': [[(1.0, 2.0), (1.0, 3.0), (0.0, 3.0), (0.0, 5.0), (1.0, 5.0), (1.0, 6.0), (2.0, 6.0), (2.0, 5.0), (1.0, 5.0), (1.0, 3.0), (2.0, 3.0), (2.0, 2.0), (1.0, 2.0)]]}, 0.0)\n",
      "({'type': 'Polygon', 'coordinates': [[(2.0, 2.0), (2.0, 4.0), (4.0, 4.0), (4.0, 5.0), (5.0, 5.0), (5.0, 4.0), (4.0, 4.0), (4.0, 2.0), (2.0, 2.0)]]}, 1.0)\n",
      "({'type': 'Polygon', 'coordinates': [[(2.0, 4.0), (2.0, 6.0), (4.0, 6.0), (4.0, 4.0), (2.0, 4.0)]]}, 5.0)\n"
     ]
    }
   ],
   "source": [
    "# connectivity is QUEEN style...connectivity = 8\n",
    "shps = features.shapes(a.astype(np.int32), connectivity=8)\n",
    "shapes = list(shps)\n",
    "print(\"The length of the list is: \" + str(len(shapes)) + \"\\n\")\n",
    "for s in shapes:\n",
    "    print(s)"
   ]
  },
  {
   "cell_type": "markdown",
   "metadata": {},
   "source": [
    "###### *Above, there are 2 background polygons (polygons with 0s)"
   ]
  },
  {
   "cell_type": "markdown",
   "metadata": {},
   "source": [
    "### Now...what if I 'label' the image"
   ]
  },
  {
   "cell_type": "code",
   "execution_count": 52,
   "metadata": {},
   "outputs": [
    {
     "data": {
      "text/plain": [
       "array([[2, 2, 2, 0, 0, 3],\n",
       "       [2, 2, 2, 0, 0, 0],\n",
       "       [8, 0, 1, 1, 0, 0],\n",
       "       [0, 8, 1, 1, 0, 0],\n",
       "       [0, 8, 5, 5, 1, 0],\n",
       "       [8, 0, 5, 5, 0, 0]])"
      ]
     },
     "execution_count": 52,
     "metadata": {},
     "output_type": "execute_result"
    }
   ],
   "source": [
    "a # a is still the same as before"
   ]
  },
  {
   "cell_type": "code",
   "execution_count": 59,
   "metadata": {},
   "outputs": [
    {
     "data": {
      "text/plain": [
       "array([[2, 2, 2, 9, 9, 3],\n",
       "       [2, 2, 2, 9, 9, 9],\n",
       "       [8, 9, 1, 1, 9, 9],\n",
       "       [9, 8, 1, 1, 9, 9],\n",
       "       [9, 8, 5, 5, 1, 9],\n",
       "       [8, 9, 5, 5, 9, 9]])"
      ]
     },
     "execution_count": 59,
     "metadata": {},
     "output_type": "execute_result"
    }
   ],
   "source": [
    "b = np.copy(a) # b is a copy of a, but with 9s instead of 0s.\n",
    "b[b==0] = 9\n",
    "b"
   ]
  },
  {
   "cell_type": "code",
   "execution_count": 60,
   "metadata": {},
   "outputs": [],
   "source": [
    "labeled = label(b, connectivity=2)  # connectivity is QUEEN style\n",
    "#labeled = label(b, connectivity=1)  # connectivity is ROOK style"
   ]
  },
  {
   "cell_type": "code",
   "execution_count": 61,
   "metadata": {},
   "outputs": [
    {
     "data": {
      "text/plain": [
       "array([[1, 1, 1, 2, 2, 3],\n",
       "       [1, 1, 1, 2, 2, 2],\n",
       "       [4, 5, 6, 6, 2, 2],\n",
       "       [5, 4, 6, 6, 2, 2],\n",
       "       [5, 4, 7, 7, 6, 2],\n",
       "       [4, 5, 7, 7, 2, 2]])"
      ]
     },
     "execution_count": 61,
     "metadata": {},
     "output_type": "execute_result"
    }
   ],
   "source": [
    "labeled"
   ]
  },
  {
   "cell_type": "code",
   "execution_count": 62,
   "metadata": {},
   "outputs": [
    {
     "name": "stdout",
     "output_type": "stream",
     "text": [
      "Slice # 0: (slice(0, 2, None), slice(0, 3, None))\n",
      "Slice # 1: (slice(0, 6, None), slice(3, 6, None))\n",
      "Slice # 2: (slice(0, 1, None), slice(5, 6, None))\n",
      "Slice # 3: (slice(2, 6, None), slice(0, 2, None))\n",
      "Slice # 4: (slice(2, 6, None), slice(0, 2, None))\n",
      "Slice # 5: (slice(2, 5, None), slice(2, 5, None))\n",
      "Slice # 6: (slice(4, 6, None), slice(2, 4, None))\n"
     ]
    }
   ],
   "source": [
    "slices = ndimage.find_objects(labeled)\n",
    "for i, s in enumerate(slices):\n",
    "    print(\"Slice # \" + str(i) + \": \" + str(s))"
   ]
  },
  {
   "cell_type": "code",
   "execution_count": 63,
   "metadata": {},
   "outputs": [
    {
     "name": "stdout",
     "output_type": "stream",
     "text": [
      "Object 1 has 6 pixels.\n",
      "Object 2 has 12 pixels.\n",
      "Object 3 has 1 pixels.\n",
      "Object 4 has 4 pixels.\n",
      "Object 5 has 4 pixels.\n",
      "Object 6 has 5 pixels.\n",
      "Object 7 has 4 pixels.\n"
     ]
    }
   ],
   "source": [
    "props = regionprops(labeled)\n",
    "for p in props:\n",
    "    print(\"Object \" + str(p.label) + \" has \" + str(p.area) + \" pixels.\")"
   ]
  },
  {
   "cell_type": "markdown",
   "metadata": {},
   "source": [
    "##### Now with features.shapes"
   ]
  },
  {
   "cell_type": "code",
   "execution_count": 67,
   "metadata": {},
   "outputs": [
    {
     "name": "stdout",
     "output_type": "stream",
     "text": [
      "The length of the list is: 7\n",
      "\n",
      "({'type': 'Polygon', 'coordinates': [[(0.0, 0.0), (0.0, 2.0), (3.0, 2.0), (3.0, 0.0), (0.0, 0.0)]]}, 2.0)\n",
      "({'type': 'Polygon', 'coordinates': [[(3.0, 0.0), (3.0, 2.0), (4.0, 2.0), (4.0, 4.0), (5.0, 4.0), (5.0, 5.0), (4.0, 5.0), (4.0, 6.0), (5.0, 6.0), (6.0, 6.0), (6.0, 1.0), (5.0, 1.0), (5.0, 0.0), (3.0, 0.0)]]}, 9.0)\n",
      "({'type': 'Polygon', 'coordinates': [[(5.0, 0.0), (5.0, 1.0), (6.0, 1.0), (6.0, 0.0), (5.0, 0.0)]]}, 3.0)\n",
      "({'type': 'Polygon', 'coordinates': [[(0.0, 2.0), (0.0, 3.0), (1.0, 3.0), (1.0, 5.0), (0.0, 5.0), (0.0, 6.0), (1.0, 6.0), (1.0, 5.0), (2.0, 5.0), (2.0, 3.0), (1.0, 3.0), (1.0, 2.0), (0.0, 2.0)]]}, 8.0)\n",
      "({'type': 'Polygon', 'coordinates': [[(1.0, 2.0), (1.0, 3.0), (0.0, 3.0), (0.0, 5.0), (1.0, 5.0), (1.0, 6.0), (2.0, 6.0), (2.0, 5.0), (1.0, 5.0), (1.0, 3.0), (2.0, 3.0), (2.0, 2.0), (1.0, 2.0)]]}, 9.0)\n",
      "({'type': 'Polygon', 'coordinates': [[(2.0, 2.0), (2.0, 4.0), (4.0, 4.0), (4.0, 5.0), (5.0, 5.0), (5.0, 4.0), (4.0, 4.0), (4.0, 2.0), (2.0, 2.0)]]}, 1.0)\n",
      "({'type': 'Polygon', 'coordinates': [[(2.0, 4.0), (2.0, 6.0), (4.0, 6.0), (4.0, 4.0), (2.0, 4.0)]]}, 5.0)\n"
     ]
    }
   ],
   "source": [
    "# connectivity is QUEEN style...connectivity = 8\n",
    "shps = features.shapes(b.astype(np.int32), connectivity=8)\n",
    "shapes = list(shps)\n",
    "print(\"The length of the list is: \" + str(len(shapes)) + \"\\n\")\n",
    "for s in shapes:\n",
    "    print(s)"
   ]
  },
  {
   "cell_type": "markdown",
   "metadata": {},
   "source": [
    "### Let's try this with an skewed image..."
   ]
  },
  {
   "cell_type": "code",
   "execution_count": 125,
   "metadata": {},
   "outputs": [],
   "source": [
    "i = np.zeros((10, 10), dtype=np.int64)\n",
    "# center\n",
    "i[2:6, 2:5] = 1\n",
    "i[2:6, 5:8] = 2\n",
    "i[6:8, 2:5] = 3\n",
    "i[5:6, 3:5] = 3\n",
    "i[6:8, 5:8] = 4\n",
    "i[4:6, 5:6] = 4\n",
    "i[4:5, 4:5] = 4\n",
    "# left\n",
    "i[7:8, 0:2] = 5\n",
    "i[4:7, 1:2] = 5\n",
    "i[3:4, 1:2] = 5\n",
    "i[2:3, 2:3] = 5\n",
    "# bottom\n",
    "i[8:10, 7:8] = 6\n",
    "i[8:9, 4:7] = 6\n",
    "# right\n",
    "i[2:3, 8:10] = 7\n",
    "i[3:6, 8:9] = 7\n",
    "i[4:6, 9:10] = 7\n",
    "# bottom\n",
    "i[0:2, 2:3] = 8\n",
    "i[1:2, 3:6] = 8\n",
    "i[1:2, 2:3] = 1"
   ]
  },
  {
   "cell_type": "code",
   "execution_count": 126,
   "metadata": {},
   "outputs": [
    {
     "data": {
      "text/plain": [
       "array([[0, 0, 8, 0, 0, 0, 0, 0, 0, 0],\n",
       "       [0, 0, 1, 8, 8, 8, 0, 0, 0, 0],\n",
       "       [0, 0, 5, 1, 1, 2, 2, 2, 7, 7],\n",
       "       [0, 5, 1, 1, 1, 2, 2, 2, 7, 0],\n",
       "       [0, 5, 1, 1, 4, 4, 2, 2, 7, 7],\n",
       "       [0, 5, 1, 3, 3, 4, 2, 2, 7, 7],\n",
       "       [0, 5, 3, 3, 3, 4, 4, 4, 0, 0],\n",
       "       [5, 5, 3, 3, 3, 4, 4, 4, 0, 0],\n",
       "       [0, 0, 0, 0, 6, 6, 6, 6, 0, 0],\n",
       "       [0, 0, 0, 0, 0, 0, 0, 6, 0, 0]])"
      ]
     },
     "execution_count": 126,
     "metadata": {},
     "output_type": "execute_result"
    }
   ],
   "source": [
    "i"
   ]
  },
  {
   "cell_type": "code",
   "execution_count": 127,
   "metadata": {},
   "outputs": [],
   "source": [
    "mask = np.zeros((10, 10), dtype=np.int64)\n",
    "# center\n",
    "mask[2:8, 2:8] = 1\n",
    "# left\n",
    "mask[7:8, 0:2] = 1\n",
    "mask[4:7, 1:2] = 1\n",
    "# bottom\n",
    "mask[8:10, 7:8] = 1\n",
    "mask[8:9, 4:7] = 1\n",
    "# right\n",
    "mask[2:3, 8:10] = 1\n",
    "mask[3:6, 8:9] = 1\n",
    "# bottom\n",
    "mask[0:2, 2:3] = 1\n",
    "mask[1:2, 3:6] = 1"
   ]
  },
  {
   "cell_type": "code",
   "execution_count": 128,
   "metadata": {},
   "outputs": [
    {
     "data": {
      "text/plain": [
       "array([[0, 0, 1, 0, 0, 0, 0, 0, 0, 0],\n",
       "       [0, 0, 1, 1, 1, 1, 0, 0, 0, 0],\n",
       "       [0, 0, 1, 1, 1, 1, 1, 1, 1, 1],\n",
       "       [0, 0, 1, 1, 1, 1, 1, 1, 1, 0],\n",
       "       [0, 1, 1, 1, 1, 1, 1, 1, 1, 0],\n",
       "       [0, 1, 1, 1, 1, 1, 1, 1, 1, 0],\n",
       "       [0, 1, 1, 1, 1, 1, 1, 1, 0, 0],\n",
       "       [1, 1, 1, 1, 1, 1, 1, 1, 0, 0],\n",
       "       [0, 0, 0, 0, 1, 1, 1, 1, 0, 0],\n",
       "       [0, 0, 0, 0, 0, 0, 0, 1, 0, 0]])"
      ]
     },
     "execution_count": 128,
     "metadata": {},
     "output_type": "execute_result"
    }
   ],
   "source": [
    "mask"
   ]
  },
  {
   "cell_type": "code",
   "execution_count": 129,
   "metadata": {},
   "outputs": [
    {
     "data": {
      "text/plain": [
       "array([[0, 0, 8, 0, 0, 0, 0, 0, 0, 0],\n",
       "       [0, 0, 1, 8, 8, 8, 0, 0, 0, 0],\n",
       "       [0, 0, 5, 1, 1, 2, 2, 2, 7, 7],\n",
       "       [0, 0, 1, 1, 1, 2, 2, 2, 7, 0],\n",
       "       [0, 5, 1, 1, 4, 4, 2, 2, 7, 0],\n",
       "       [0, 5, 1, 3, 3, 4, 2, 2, 7, 0],\n",
       "       [0, 5, 3, 3, 3, 4, 4, 4, 0, 0],\n",
       "       [5, 5, 3, 3, 3, 4, 4, 4, 0, 0],\n",
       "       [0, 0, 0, 0, 6, 6, 6, 6, 0, 0],\n",
       "       [0, 0, 0, 0, 0, 0, 0, 6, 0, 0]])"
      ]
     },
     "execution_count": 129,
     "metadata": {},
     "output_type": "execute_result"
    }
   ],
   "source": [
    "output = i * mask\n",
    "output"
   ]
  },
  {
   "cell_type": "code",
   "execution_count": 140,
   "metadata": {},
   "outputs": [
    {
     "data": {
      "text/plain": [
       "array([[0, 0, 8, 0, 0, 0, 0, 0, 0, 0],\n",
       "       [0, 0, 1, 8, 8, 8, 0, 0, 0, 0],\n",
       "       [0, 0, 1, 1, 1, 2, 2, 2, 7, 7],\n",
       "       [0, 0, 1, 1, 1, 2, 2, 2, 7, 0],\n",
       "       [0, 5, 1, 1, 4, 4, 2, 2, 7, 0],\n",
       "       [0, 5, 1, 3, 3, 4, 2, 2, 7, 0],\n",
       "       [0, 5, 3, 3, 3, 4, 4, 4, 0, 0],\n",
       "       [5, 5, 3, 3, 3, 4, 4, 4, 0, 0],\n",
       "       [0, 0, 0, 0, 6, 6, 6, 6, 0, 0],\n",
       "       [0, 0, 0, 0, 0, 0, 0, 6, 0, 0]], dtype=int32)"
      ]
     },
     "execution_count": 140,
     "metadata": {},
     "output_type": "execute_result"
    }
   ],
   "source": [
    "sieved = features.sieve(output.astype('int32'), 2, mask=mask.astype('uint8'), connectivity=8)\n",
    "sieved"
   ]
  },
  {
   "cell_type": "code",
   "execution_count": 143,
   "metadata": {},
   "outputs": [
    {
     "data": {
      "text/plain": [
       "array([[0, 0, 0, 0, 0, 0, 0, 0, 0, 0],\n",
       "       [0, 0, 0, 0, 0, 0, 0, 0, 0, 0],\n",
       "       [0, 0, 4, 0, 0, 0, 0, 0, 0, 0],\n",
       "       [0, 0, 0, 0, 0, 0, 0, 0, 0, 0],\n",
       "       [0, 0, 0, 0, 0, 0, 0, 0, 0, 0],\n",
       "       [0, 0, 0, 0, 0, 0, 0, 0, 0, 0],\n",
       "       [0, 0, 0, 0, 0, 0, 0, 0, 0, 0],\n",
       "       [0, 0, 0, 0, 0, 0, 0, 0, 0, 0],\n",
       "       [0, 0, 0, 0, 0, 0, 0, 0, 0, 0],\n",
       "       [0, 0, 0, 0, 0, 0, 0, 0, 0, 0]])"
      ]
     },
     "execution_count": 143,
     "metadata": {},
     "output_type": "execute_result"
    }
   ],
   "source": [
    "output - sieved"
   ]
  },
  {
   "cell_type": "code",
   "execution_count": null,
   "metadata": {},
   "outputs": [],
   "source": []
  }
 ],
 "metadata": {
  "kernelspec": {
   "display_name": "Python 3 (Spyder)",
   "language": "python3",
   "name": "python3"
  },
  "language_info": {
   "codemirror_mode": {
    "name": "ipython",
    "version": 3
   },
   "file_extension": ".py",
   "mimetype": "text/x-python",
   "name": "python",
   "nbconvert_exporter": "python",
   "pygments_lexer": "ipython3",
   "version": "3.6.6"
  }
 },
 "nbformat": 4,
 "nbformat_minor": 2
}
